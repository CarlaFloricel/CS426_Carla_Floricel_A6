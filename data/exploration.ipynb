{
 "cells": [
  {
   "cell_type": "markdown",
   "metadata": {},
   "source": [
    "# Data Exploration\n",
    "\n",
    "\n",
    "## Steps being followed\n",
    "\n",
    "- Dataset dimensions\n",
    "- Dataset head\n",
    "- Dataset basic statistical characteristics\n",
    "- Histogram for each survey of patients grouped by patient ID\n",
    "- Histogram for each survey of patients, group by relative timestamps\n",
    "- Mean & variance for all the charts\n"
   ]
  },
  {
   "cell_type": "markdown",
   "metadata": {},
   "source": [
    "# Data Preparation\n",
    "\n",
    "## Steps being followed\n",
    "\n",
    "- Remove other entries than survey data and timestamps\n",
    "- Principal Component Analysis\n",
    "    - identifies patterns based on correlations between features\n",
    "    - finds maximum variance using fewer dimensions than original data\n",
    "    - will lose some variance and lower predictive power, but fast\n",
    "- Check variance ratio from PCA to normal dataset, to see if PCA is too lossy"
   ]
  },
  {
   "cell_type": "markdown",
   "metadata": {},
   "source": [
    "# Training Models\n",
    "\n",
    "## Steps being followed\n",
    "\n",
    "1) K-Means clustering\n",
    "    - elbow fitting\n",
    "    - scatterplot\n",
    "    - csv export\n",
    "2) Agglomerative clustering\n",
    "    - dendrogram fitting\n",
    "    - scatterplot\n",
    "    - csv export"
   ]
  },
  {
   "cell_type": "markdown",
   "metadata": {},
   "source": [
    "# Conclusion\n",
    "\n",
    "## Steps being followed\n",
    "\n",
    "- [ ] Use PCA on both clustering models\n",
    "- [ ] Compare clustering result with and without PCA\n",
    "- [ ] Define no. of clusters using Elbow and Dendrogram methods\n",
    "- [ ] Compare result of agglomerative and K-means clustering\n",
    "- [ ] Deeper analysis on clustering result"
   ]
  }
 ],
 "metadata": {
  "file_extension": ".py",
  "kernelspec": {
   "display_name": "Python 3",
   "language": "python",
   "name": "python3"
  },
  "language_info": {
   "codemirror_mode": {
    "name": "ipython",
    "version": 3
   },
   "file_extension": ".py",
   "mimetype": "text/x-python",
   "name": "python",
   "nbconvert_exporter": "python",
   "pygments_lexer": "ipython3",
   "version": "3.7.4"
  },
  "mimetype": "text/x-python",
  "name": "python",
  "npconvert_exporter": "python",
  "pygments_lexer": "ipython3",
  "version": 3
 },
 "nbformat": 4,
 "nbformat_minor": 2
}
