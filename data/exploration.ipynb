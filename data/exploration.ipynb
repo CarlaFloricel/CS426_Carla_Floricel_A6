{
 "cells": [
  {
   "cell_type": "markdown",
   "metadata": {},
   "source": [
    "# Data Exploration\n",
    "\n",
    "\n",
    "## Steps being followed\n",
    "\n",
    "- Dataset dimensions\n",
    "- Dataset head\n",
    "- Dataset basic statistical characteristics\n",
    "- Histogram for each survey of patients grouped by patient ID\n",
    "- Histogram for each survey of patients, group by relative timestamps\n",
    "- Mean & variance for all the charts\n"
   ]
  },
  {
   "cell_type": "markdown",
   "metadata": {},
   "source": [
    "# Data Preparation\n",
    "\n",
    "## Steps being followed\n",
    "\n",
    "- Remove other entries than survey data and timestamps\n",
    "- Principal Component Analysis\n",
    "    - identifies patterns based on correlations between features\n",
    "    - finds maximum variance using fewer dimensions than original data\n",
    "    - will lose some variance and lower predictive power, but fast\n",
    "- Check variance ratio from PCA to normal dataset, to see if PCA is too lossy"
   ]
  },
  {
   "cell_type": "markdown",
   "metadata": {},
   "source": [
    "# Training Models\n",
    "\n",
    "## Steps being followed\n",
    "\n",
    "1) K-Means clustering\n",
    "    - elbow fitting\n",
    "    - scatterplot\n",
    "    - csv export\n",
    "2) Agglomerative clustering\n",
    "    - dendrogram fitting\n",
    "    - scatterplot\n",
    "    - csv export"
   ]
  },
  {
   "cell_type": "markdown",
   "metadata": {},
   "source": [
    "# Conclusion\n",
    "\n",
    "## Steps being followed\n",
    "\n",
    "- [ ] Use PCA on both clustering models\n",
    "- [ ] Compare clustering result with and without PCA\n",
    "- [ ] Define no. of clusters using Elbow and Dendrogram methods\n",
    "- [ ] Compare result of agglomerative and K-means clustering\n",
    "- [ ] Deeper analysis on clustering result"
   ]
  },
  {
   "cell_type": "code",
   "execution_count": 4,
   "metadata": {},
   "outputs": [
    {
     "data": {
      "text/html": "<div>\n<style scoped>\n    .dataframe tbody tr th:only-of-type {\n        vertical-align: middle;\n    }\n\n    .dataframe tbody tr th {\n        vertical-align: top;\n    }\n\n    .dataframe thead th {\n        text-align: right;\n    }\n</style>\n<table border=\"1\" class=\"dataframe\">\n  <thead>\n    <tr style=\"text-align: right;\">\n      <th></th>\n      <th>ID</th>\n      <th>Age.at.Diagnosis</th>\n      <th>Total.dose</th>\n      <th>Total.fractions</th>\n      <th>Treatment.duration</th>\n      <th>Dose.fraction</th>\n    </tr>\n  </thead>\n  <tbody>\n    <tr>\n      <td>count</td>\n      <td>55.00000</td>\n      <td>55.000000</td>\n      <td>55.000000</td>\n      <td>55.000000</td>\n      <td>55.000000</td>\n      <td>55.000000</td>\n    </tr>\n    <tr>\n      <td>mean</td>\n      <td>4569.40000</td>\n      <td>58.000556</td>\n      <td>68.921455</td>\n      <td>32.618182</td>\n      <td>42.218182</td>\n      <td>2.117778</td>\n    </tr>\n    <tr>\n      <td>std</td>\n      <td>3288.10748</td>\n      <td>9.201751</td>\n      <td>2.004779</td>\n      <td>2.077132</td>\n      <td>3.381271</td>\n      <td>0.082183</td>\n    </tr>\n    <tr>\n      <td>min</td>\n      <td>55.00000</td>\n      <td>41.102778</td>\n      <td>63.000000</td>\n      <td>30.000000</td>\n      <td>34.000000</td>\n      <td>1.800000</td>\n    </tr>\n    <tr>\n      <td>25%</td>\n      <td>2022.50000</td>\n      <td>51.298611</td>\n      <td>66.000000</td>\n      <td>31.000000</td>\n      <td>39.000000</td>\n      <td>2.120000</td>\n    </tr>\n    <tr>\n      <td>50%</td>\n      <td>5035.00000</td>\n      <td>56.536111</td>\n      <td>70.000000</td>\n      <td>33.000000</td>\n      <td>44.000000</td>\n      <td>2.121212</td>\n    </tr>\n    <tr>\n      <td>75%</td>\n      <td>5084.50000</td>\n      <td>63.752778</td>\n      <td>70.000000</td>\n      <td>33.000000</td>\n      <td>44.000000</td>\n      <td>2.154356</td>\n    </tr>\n    <tr>\n      <td>max</td>\n      <td>10159.00000</td>\n      <td>76.594444</td>\n      <td>72.000000</td>\n      <td>40.000000</td>\n      <td>49.000000</td>\n      <td>2.200000</td>\n    </tr>\n  </tbody>\n</table>\n</div>",
      "text/plain": "                ID  Age.at.Diagnosis  Total.dose  Total.fractions  \\\ncount     55.00000         55.000000   55.000000        55.000000   \nmean    4569.40000         58.000556   68.921455        32.618182   \nstd     3288.10748          9.201751    2.004779         2.077132   \nmin       55.00000         41.102778   63.000000        30.000000   \n25%     2022.50000         51.298611   66.000000        31.000000   \n50%     5035.00000         56.536111   70.000000        33.000000   \n75%     5084.50000         63.752778   70.000000        33.000000   \nmax    10159.00000         76.594444   72.000000        40.000000   \n\n       Treatment.duration  Dose.fraction  \ncount           55.000000      55.000000  \nmean            42.218182       2.117778  \nstd              3.381271       0.082183  \nmin             34.000000       1.800000  \n25%             39.000000       2.120000  \n50%             44.000000       2.121212  \n75%             44.000000       2.154356  \nmax             49.000000       2.200000  "
     },
     "execution_count": 4,
     "metadata": {},
     "output_type": "execute_result"
    }
   ],
   "source": [
    "import pandas as pd\n",
    "\n",
    "df_train = pd.read_csv('datasets/patients.csv')\n",
    "df_train.describe()"
   ]
  }
 ],
 "metadata": {
  "file_extension": ".py",
  "kernelspec": {
   "display_name": "Python 3",
   "language": "python",
   "name": "python3"
  },
  "language_info": {
   "codemirror_mode": {
    "name": "ipython",
    "version": 3
   },
   "file_extension": ".py",
   "mimetype": "text/x-python",
   "name": "python",
   "nbconvert_exporter": "python",
   "pygments_lexer": "ipython3",
   "version": "3.7.4"
  },
  "mimetype": "text/x-python",
  "name": "python",
  "npconvert_exporter": "python",
  "pygments_lexer": "ipython3",
  "version": 3
 },
 "nbformat": 4,
 "nbformat_minor": 2
}